{
 "cells": [
  {
   "cell_type": "code",
   "execution_count": 144,
   "metadata": {
    "collapsed": true
   },
   "outputs": [],
   "source": [
    "import matplotlib\n",
    "import numpy as np\n",
    "import matplotlib.pyplot as plt\n",
    "%matplotlib inline \n",
    "from pylab import *"
   ]
  },
  {
   "cell_type": "markdown",
   "metadata": {},
   "source": [
    "Initialization"
   ]
  },
  {
   "cell_type": "code",
   "execution_count": 145,
   "metadata": {
    "collapsed": false
   },
   "outputs": [],
   "source": [
    "weights1 = np.random.uniform(-0.5,0.5,[3,2])  \n",
    "weights2 = np.random.uniform(-0.5,0.5,[4])  "
   ]
  },
  {
   "cell_type": "markdown",
   "metadata": {},
   "source": [
    "1. Forward propagation"
   ]
  },
  {
   "cell_type": "code",
   "execution_count": 146,
   "metadata": {
    "collapsed": false
   },
   "outputs": [],
   "source": [
    "def getH (weights1,x) :\n",
    "    return dot(weights1,[1,x])\n",
    "\n",
    "def getS (weights1,x) :\n",
    "    return np.tanh(getH(weights1,x))\n",
    "\n",
    "def output (weights1,weights2,x) :\n",
    "    return dot(weights2,[1] + [getS(weights1,x)[i] for i in range(3)])\n",
    "\n",
    "data = str.split(\"\"\"0.5503 -0.5894\n",
    "0.9206 -0.2507\n",
    "0.5359 -0.0468\n",
    "0.6081 -0.3402\n",
    "0.0202 0.2857\n",
    "0.8545 -1.0683\n",
    "0.2357 0.8605\n",
    "0.4847 -0.0801\n",
    "0.3996 0.6837\n",
    "0.1957 1.1850\"\"\", \"\\n\")\n",
    "\n",
    "inputs = [float(str.split(data[i],\" \")[0]) for i in range(10)]\n",
    "targets = [float(str.split(data[i],\" \")[1]) for i in range(10)]\n",
    "\n",
    "def getOutputs (weights1,weights2,inputs) :\n",
    "    return [output(weights1,weights2,inputs[i]) for i in range(10)]"
   ]
  },
  {
   "cell_type": "markdown",
   "metadata": {},
   "source": [
    "2. Output error"
   ]
  },
  {
   "cell_type": "code",
   "execution_count": 147,
   "metadata": {
    "collapsed": false,
    "scrolled": true
   },
   "outputs": [],
   "source": [
    "def getError (outputs,targets) :\n",
    "    return 0.1*sum([0.5*(outputs[i]-targets[i])**2 for i in range(10)])"
   ]
  },
  {
   "cell_type": "markdown",
   "metadata": {},
   "source": [
    "3. Backpropagation"
   ]
  },
  {
   "cell_type": "code",
   "execution_count": 148,
   "metadata": {
    "collapsed": false
   },
   "outputs": [],
   "source": [
    "def delta2 (outputs,targets,inputs,weights1,weights2,i) :\n",
    "    return -0.1*sum([(outputs[n]-targets[n])*getS(weights1,inputs[n]) for n in range(10)])\n",
    "\n",
    "def delta1 (outputs,targets,inputs,weights1,weights2,i,j) :\n",
    "    return -0.1*sum([(outputs[n]-targets[n])*weights2[i]*(1-(np.tanh(getH(weights1,inputs[n])[i])**2))*[1,inputs[n]][j] for n in range(10)])"
   ]
  },
  {
   "cell_type": "markdown",
   "metadata": {},
   "source": [
    "4. Weight update"
   ]
  },
  {
   "cell_type": "code",
   "execution_count": 149,
   "metadata": {
    "collapsed": false
   },
   "outputs": [],
   "source": [
    "def update2(outputs,targets,inputs,weights1,weights2,rate) :\n",
    "    return [weights2[i]+rate*delta2(outputs,targets,inputs,weights1,weights2,i) for i in range(4)]\n",
    "\n",
    "def update1(outputs,targets,inputs,weights1,weights2,rate) :\n",
    "    return [[weights1[i][j]+rate*delta1(outputs,targets,inputs,weights1,weights2,i,j) for j in range(2)] for i in range (3)]"
   ]
  },
  {
   "cell_type": "markdown",
   "metadata": {},
   "source": [
    "Loop"
   ]
  },
  {
   "cell_type": "code",
   "execution_count": 150,
   "metadata": {
    "collapsed": false
   },
   "outputs": [
    {
     "data": {
      "text/plain": [
       "[<matplotlib.lines.Line2D at 0x7fae654e4f90>]"
      ]
     },
     "execution_count": 150,
     "metadata": {},
     "output_type": "execute_result"
    },
    {
     "data": {
      "image/png": "[encoded data removed]",
      "text/plain": [
       "<matplotlib.figure.Figure at 0x7fae6b703190>"
      ]
     },
     "metadata": {},
     "output_type": "display_data"
    }
   ],
   "source": [
    "e = 10\n",
    "errors = [10]\n",
    "deltae = 10\n",
    "i = 0\n",
    "while abs(deltae)/e >= 0.00001 and i <= 3000 :\n",
    "    i += 1\n",
    "    outputs = getOutputs (weights1,weights2,inputs)\n",
    "    e = getError (outputs,targets)\n",
    "    deltae = float(errors[-1])-e\n",
    "    errors.append(e)\n",
    "    weights2,weights1 = update2(outputs,targets,inputs,weights1,weights2,0.5),update1(outputs,targets,inputs,weights1,weights2,0.5)\n",
    "    \n",
    "del errors[0]\n",
    "\n",
    "plt.plot(errors)"
   ]
  }
 ],
 "metadata": {
  "anaconda-cloud": {},
  "kernelspec": {
   "display_name": "Python [default]",
   "language": "python",
   "name": "python2"
  },
  "language_info": {
   "codemirror_mode": {
    "name": "ipython",
    "version": 2
   },
   "file_extension": ".py",
   "mimetype": "text/x-python",
   "name": "python",
   "nbconvert_exporter": "python",
   "pygments_lexer": "ipython2",
   "version": "2.7.12"
  }
 },
 "nbformat": 4,
 "nbformat_minor": 2
}
